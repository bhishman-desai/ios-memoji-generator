{
  "nbformat": 4,
  "nbformat_minor": 0,
  "metadata": {
    "colab": {
      "provenance": []
    },
    "kernelspec": {
      "name": "python3",
      "display_name": "Python 3"
    },
    "language_info": {
      "name": "python"
    }
  },
  "cells": [
    {
      "cell_type": "code",
      "execution_count": null,
      "metadata": {
        "id": "YS5LyAkckxQJ"
      },
      "outputs": [],
      "source": [
        "!pip install modelbit\n",
        "!pip install numpy --upgrade\n",
        "!pip install --upgrade --force-reinstall diffusers transformers accelerate safetensors huggingface_hub"
      ]
    },
    {
      "cell_type": "code",
      "source": [
        "import modelbit\n",
        "modelbit.login()"
      ],
      "metadata": {
        "id": "0wFLrR_okzeG"
      },
      "execution_count": null,
      "outputs": []
    },
    {
      "cell_type": "code",
      "source": [
        "!git clone https://github.com/replicate/cog-sdxl cog_sdxl"
      ],
      "metadata": {
        "id": "Y1-sJ3N3k1Vk"
      },
      "execution_count": null,
      "outputs": []
    },
    {
      "cell_type": "code",
      "source": [
        "import modelbit as mb\n",
        "import torch\n",
        "from diffusers import DiffusionPipeline\n",
        "from huggingface_hub import hf_hub_download\n",
        "import base64\n",
        "import io\n",
        "\n",
        "def generate_image(prompt: str) -> str:\n",
        "    \"\"\"\n",
        "    Generate an emoji-style image using Stable Diffusion XL with emoji LoRA\n",
        "    Args:\n",
        "        prompt: Text description of the image to generate\n",
        "    Returns:\n",
        "        Base64 encoded string of the generated image\n",
        "    \"\"\"\n",
        "    from content.cog_sdxl.dataset_and_utils import TokenEmbeddingsHandler\n",
        "\n",
        "    # Initialize the pipeline\n",
        "    pipe = DiffusionPipeline.from_pretrained(\n",
        "        \"stabilityai/stable-diffusion-xl-base-1.0\",\n",
        "        torch_dtype=torch.float16,\n",
        "        variant=\"fp16\"\n",
        "    )\n",
        "\n",
        "    if torch.cuda.is_available():\n",
        "        pipe = pipe.to(\"cuda\")\n",
        "\n",
        "    # Load LoRA weights\n",
        "    pipe.load_lora_weights(\"fofr/sdxl-emoji\", weight_name=\"lora.safetensors\")\n",
        "\n",
        "    # Setup text encoders and tokenizers\n",
        "    text_encoders = [pipe.text_encoder, pipe.text_encoder_2]\n",
        "    tokenizers = [pipe.tokenizer, pipe.tokenizer_2]\n",
        "\n",
        "    # Load embeddings\n",
        "    embedding_path = hf_hub_download(\n",
        "        repo_id=\"fofr/sdxl-emoji\",\n",
        "        filename=\"embeddings.pti\",\n",
        "        repo_type=\"model\"\n",
        "    )\n",
        "    embhandler = TokenEmbeddingsHandler(text_encoders, tokenizers)\n",
        "    embhandler.load_embeddings(embedding_path)\n",
        "\n",
        "    # Add emoji tokens if not present in prompt\n",
        "    if \"<s0><s1>\" not in prompt:\n",
        "        prompt = f\"A <s0><s1> emoji of {prompt}\"\n",
        "\n",
        "    # Generate image\n",
        "    image = pipe(\n",
        "        prompt,\n",
        "        cross_attention_kwargs={\"scale\": 0.8}\n",
        "    ).images[0]\n",
        "\n",
        "    # Convert PIL image to base64 string\n",
        "    buffered = io.BytesIO()\n",
        "    image.save(buffered, format=\"WEBP\", optimize=True, quality=85)\n",
        "    img_str = base64.b64encode(buffered.getvalue()).decode('utf-8')\n",
        "\n",
        "    return img_str\n",
        "\n",
        "# Get the directory containing cog_sdxl\n",
        "import os\n",
        "\n",
        "# Get all Python files in the cog_sdxl directory\n",
        "extra_files = []\n",
        "for root, _, files in os.walk(\"/content/cog_sdxl\"):\n",
        "    for file in files:\n",
        "        if file.endswith('.py'):\n",
        "            file_path = os.path.join(root, file)\n",
        "            extra_files.append(file_path)\n",
        "\n",
        "# Deploy to ModelBit with extra files\n",
        "mb.deploy(\n",
        "    generate_image,\n",
        "    python_version=\"3.11\",\n",
        "    python_packages=[\n",
        "        \"diffusers==0.32.2\",\n",
        "        \"transformers==4.50.2\",\n",
        "        \"torch==2.1.2\",\n",
        "        \"accelerate==1.5.2\",\n",
        "        \"safetensors==0.5.3\",\n",
        "        \"huggingface-hub==0.29.3\",\n",
        "        \"numpy==1.26.0\",\n",
        "        \"peft==0.15.0\"\n",
        "    ],\n",
        "    extra_files=extra_files,  # Include all Python files from cog_sdxl\n",
        "    require_gpu=True,\n",
        "    name=\"emoji_generator\"\n",
        ")"
      ],
      "metadata": {
        "id": "Jd1JUlGPk3pp"
      },
      "execution_count": null,
      "outputs": []
    }
  ]
}